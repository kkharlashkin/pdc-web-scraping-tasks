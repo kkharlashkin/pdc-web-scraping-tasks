{
 "cells": [
  {
   "cell_type": "markdown",
   "metadata": {},
   "source": [
    "### NY Times 100 books with Beautiful Soup"
   ]
  },
  {
   "cell_type": "code",
   "execution_count": 1,
   "metadata": {},
   "outputs": [],
   "source": [
    "import requests as re\n",
    "from bs4 import BeautifulSoup\n",
    "from selenium import webdriver\n",
    "from selenium.webdriver.chrome.options import Options\n",
    "import time"
   ]
  },
  {
   "cell_type": "code",
   "execution_count": 4,
   "metadata": {},
   "outputs": [],
   "source": [
    "from selenium.webdriver.common.by import By\n",
    "from selenium.webdriver.common.keys import Keys\n",
    "from selenium.webdriver.support.ui import WebDriverWait\n",
    "from selenium.webdriver.support import expected_conditions as EC"
   ]
  },
  {
   "cell_type": "code",
   "execution_count": 5,
   "metadata": {},
   "outputs": [],
   "source": [
    "req = re.get(\"https://www.nytimes.com/interactive/2024/books/best-books-21st-century.html\")\n",
    "soup = BeautifulSoup(req.content, \"html.parser\")"
   ]
  },
  {
   "cell_type": "code",
   "execution_count": 6,
   "metadata": {},
   "outputs": [],
   "source": [
    "books = soup.find_all(class_=\"text-area svelte-cu528v\")\n",
    "books_dicts = []\n",
    "\n",
    "for book in books:\n",
    "    # Extract the title\n",
    "    try:\n",
    "        title = book.find(class_=\"svelte-cu528v\").get_text()\n",
    "    except:\n",
    "        title = \"\"\n",
    "\n",
    "    # Extract the author\n",
    "    try:\n",
    "        author = book.find(class_=\"author svelte-cu528v\").get_text()\n",
    "    except:\n",
    "        author = \"\"\n",
    "\n",
    "    # Extract the year\n",
    "    try:\n",
    "        year = book.find(class_=\"year svelte-cu528v\").get_text()\n",
    "    except:\n",
    "        year = \"\"\n",
    "\n",
    "    # Extract the Amazon link\n",
    "    #try:\n",
    "        # Find all anchor tags within the book element\n",
    "        #links = book.find_all(\"a\", href=True)\n",
    "        # Look for the first link that contains 'amazon.com'\n",
    "        #amazon_link = next((a['href'] for a in links if 'amazon.com' in a['href']), \"\")\n",
    "    #except:\n",
    "        #amazon_link = \"\"\n",
    "\n",
    "    try:\n",
    "        # Find all anchor tags within the book element\n",
    "        text_container = book.find(class_=\"already-read-box svelte-cu528v no-comment-or-quote\")\n",
    "        if text_container:\n",
    "            links = text_container.find_all(\"a\", href=True)\n",
    "            # Look for the first link that contains 'amazon.com'\n",
    "            apple_link = next((a['href'] for a in links if 'apple.com' in a['href']), \"\")\n",
    "    except:\n",
    "        apple_link = \"\"\n",
    "\n",
    "\n",
    "    book_dict = {\n",
    "        \"title\": title,\n",
    "        \"author\": author,\n",
    "        \"year\": year,\n",
    "        \"link\": apple_link\n",
    "    }\n",
    "    books_dicts.append(book_dict)"
   ]
  },
  {
   "cell_type": "markdown",
   "metadata": {},
   "source": [
    "### Table of Russian football clubs"
   ]
  },
  {
   "cell_type": "code",
   "execution_count": null,
   "metadata": {},
   "outputs": [],
   "source": [
    "from selenium import webdriver\n",
    "from selenium.webdriver.chrome.options import Options\n",
    "from bs4 import BeautifulSoup\n",
    "import time"
   ]
  },
  {
   "cell_type": "code",
   "execution_count": 66,
   "metadata": {},
   "outputs": [
    {
     "name": "stdout",
     "output_type": "stream",
     "text": [
      "{'team': '', 'link': '', 'games': 'Not found'}\n",
      "{'team': 'Краснодар', 'link': 'https://premierliga.ru/about-rpl/clubs/krasnodar', 'games': '431'}\n",
      "{'team': 'Зенит', 'link': 'https://premierliga.ru/about-rpl/clubs/zenit', 'games': '700'}\n",
      "{'team': 'ПФК ЦСКА', 'link': 'https://premierliga.ru/about-rpl/clubs/pfc-cska', 'games': '701'}\n",
      "{'team': 'Спартак-Москва', 'link': 'https://premierliga.ru/about-rpl/clubs/spartak', 'games': '700'}\n",
      "{'team': 'Динамо', 'link': 'https://premierliga.ru/about-rpl/clubs/dinamo', 'games': '670'}\n",
      "{'team': 'Локомотив', 'link': 'https://premierliga.ru/about-rpl/clubs/lokomotiv', 'games': '702'}\n",
      "{'team': 'Рубин', 'link': 'https://premierliga.ru/about-rpl/clubs/rubin', 'games': '641'}\n",
      "{'team': 'Ростов', 'link': 'https://premierliga.ru/about-rpl/clubs/rostov', 'games': '670'}\n",
      "{'team': 'Акрон', 'link': 'https://premierliga.ru/about-rpl/clubs/akron', 'games': '27'}\n",
      "{'team': 'Крылья Советов', 'link': 'https://premierliga.ru/about-rpl/clubs/kr-sovetov', 'games': '610'}\n",
      "{'team': 'Динамо Мх', 'link': 'https://premierliga.ru/about-rpl/clubs/dynamo_mh', 'games': '27'}\n",
      "{'team': 'Химки', 'link': 'https://premierliga.ru/about-rpl/clubs/khimki', 'games': '206'}\n",
      "{'team': 'Пари НН', 'link': 'https://premierliga.ru/about-rpl/clubs/n-novgorod', 'games': '116'}\n",
      "{'team': 'Ахмат', 'link': 'https://premierliga.ru/about-rpl/clubs/akhmat', 'games': '550'}\n",
      "{'team': 'Оренбург', 'link': 'https://premierliga.ru/about-rpl/clubs/orenburg', 'games': '177'}\n",
      "{'team': 'Факел', 'link': 'https://premierliga.ru/about-rpl/clubs/fakel', 'games': '86'}\n"
     ]
    }
   ],
   "source": [
    "# Run time ~ 3 min 20 sec\n",
    "\n",
    "# Browser\n",
    "options = Options()\n",
    "options.add_argument(\"--headless=new\")\n",
    "driver = webdriver.Chrome(options=options)\n",
    "\n",
    "# Link\n",
    "driver.get(\"https://premierliga.ru/tournament-table/\")\n",
    "time.sleep(3)\n",
    "\n",
    "#Soup\n",
    "soup = BeautifulSoup(driver.page_source, \"html.parser\")\n",
    "\n",
    "#Rows with club info\n",
    "club_cells = soup.find_all(\"td\", class_=\"club\")\n",
    "\n",
    "# Names and links\n",
    "team_dicts = []\n",
    "for cell in club_cells:\n",
    "    try:\n",
    "        a_tag = cell.find(\"a\")\n",
    "        name = a_tag.get_text(strip=True)\n",
    "        link = \"https://premierliga.ru\" + a_tag[\"href\"]\n",
    "    except:\n",
    "        name = \"\"\n",
    "        link = \"\"\n",
    "\n",
    "    team_dicts.append({\n",
    "        \"team\": name,\n",
    "        \"link\": link\n",
    "    })\n",
    "\n",
    "# Total number of games (available at each team's web page)\n",
    "for team in team_dicts:\n",
    "    try:\n",
    "        driver.get(team[\"link\"])\n",
    "        time.sleep(2)\n",
    "        team_soup = BeautifulSoup(driver.page_source, \"html.parser\")\n",
    "\n",
    "        # Count class is not unique\n",
    "        count_tds = team_soup.find_all(\"td\", class_=\"count\")\n",
    "        \n",
    "        # We need second count class\n",
    "        games = count_tds[1].get_text(strip=True) if len(count_tds) > 1 else \"Not found\"\n",
    "    except:\n",
    "        games = \"Not found\"\n",
    "\n",
    "    team[\"games\"] = games\n",
    "\n",
    "# Result\n",
    "for team in team_dicts:\n",
    "    print(team)\n",
    "\n",
    "driver.quit()"
   ]
  }
 ],
 "metadata": {
  "kernelspec": {
   "display_name": "base",
   "language": "python",
   "name": "python3"
  },
  "language_info": {
   "codemirror_mode": {
    "name": "ipython",
    "version": 3
   },
   "file_extension": ".py",
   "mimetype": "text/x-python",
   "name": "python",
   "nbconvert_exporter": "python",
   "pygments_lexer": "ipython3",
   "version": "3.11.11"
  }
 },
 "nbformat": 4,
 "nbformat_minor": 2
}
